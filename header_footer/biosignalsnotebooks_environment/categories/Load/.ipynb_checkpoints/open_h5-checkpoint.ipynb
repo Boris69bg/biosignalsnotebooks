{
 "cells": [
  {
   "cell_type": "markdown",
   "metadata": {
    "tags": [
     "intro_info_title"
    ]
   },
   "source": [
    "<link rel=\"stylesheet\" href=\"../../styles/theme_style.css\">\n",
    "<!--link rel=\"stylesheet\" href=\"../../styles/header_style.css\"-->\n",
    "<link rel=\"stylesheet\" href=\"https://cdnjs.cloudflare.com/ajax/libs/font-awesome/4.7.0/css/font-awesome.min.css\">\n",
    "\n",
    "<table width=\"100%\">\n",
    "    <tr>\n",
    "        <td id=\"image_td\" width=\"15%\" class=\"header_image_color_1\"><div id=\"image_img\"\n",
    "        class=\"header_image_1\"></div></td>\n",
    "        <td class=\"header_text\">Load acquired data from .h5 file</td>\n",
    "    </tr>\n",
    "</table>"
   ]
  },
  {
   "cell_type": "markdown",
   "metadata": {
    "tags": [
     "intro_info_tags"
    ]
   },
   "source": [
    "<div id=\"flex-container\">\n",
    "    <div id=\"diff_level\" class=\"flex-item\">\n",
    "        <strong>Difficulty Level:</strong>   <span class=\"fa fa-star checked\"></span>\n",
    "                                <span class=\"fa fa-star checked\"></span>\n",
    "                                <span class=\"fa fa-star\"></span>\n",
    "                                <span class=\"fa fa-star\"></span>\n",
    "                                <span class=\"fa fa-star\"></span>\n",
    "    </div>\n",
    "    <div id=\"tag\" class=\"flex-item-tag\">\n",
    "        <span id=\"tag_list\">\n",
    "            <table id=\"tag_list_table\">\n",
    "                <tr>\n",
    "                    <td class=\"shield_left\">Tags</td>\n",
    "                    <td class=\"shield_right\" id=\"tags\">open&#9729;load&#9729;h5</td>\n",
    "                </tr>\n",
    "            </table>\n",
    "        </span>\n",
    "        <!-- [OR] Visit https://img.shields.io in order to create a tag badge-->\n",
    "    </div>\n",
    "</div>"
   ]
  },
  {
   "cell_type": "markdown",
   "metadata": {
    "tags": [
     "test"
    ]
   },
   "source": [
    "\n",
    "For storing large amounts of data a .h5 (hierarchical data format) file defines an interesting approach. This is one of the predefined OpenSignals output files formats.\n",
    "It will be explained how to load/transpose the data inside .h5 file to a Python list, that can easily be manipulated in the processing operations.\n"
   ]
  },
  {
   "cell_type": "markdown",
   "metadata": {},
   "source": [
    "<hr>"
   ]
  },
  {
   "cell_type": "markdown",
   "metadata": {
    "tags": []
   },
   "source": [
    "<p class=\"steps\">1 - Needed packages importation</p>"
   ]
  },
  {
   "cell_type": "code",
   "execution_count": null,
   "metadata": {
    "tags": [
     "hide_out"
    ]
   },
   "outputs": [],
   "source": [
    "# Package used for loading data from the input h5 file\n",
    "from h5py import File\n",
    "\n",
    "# Package intended to work with arrays\n",
    "from numpy import array\n",
    "\n",
    "# biosignalsnotebooks python package\n",
    "import biosignalsnotebooks as bsnb"
   ]
  },
  {
   "cell_type": "markdown",
   "metadata": {},
   "source": [
    "<p class=\"steps\">2 - Creation of a h5py object from the file named \"ecg_sample.h5\"</p>"
   ]
  },
  {
   "cell_type": "code",
   "execution_count": null,
   "metadata": {
    "tags": []
   },
   "outputs": [],
   "source": [
    "file_folder = \"../../signal_samples\"\n",
    "file_name = \"ecg_sample.h5\"\n",
    "file_path = file_folder + \"/\" + file_name\n",
    "\n",
    "h5_object = File(file_path)"
   ]
  },
  {
   "cell_type": "markdown",
   "metadata": {
    "tags": []
   },
   "source": [
    "<p class=\"steps\">3 - Inspection of .h5 file internal structure/groups (in this case the mac address list of the used devices for acquiring data)</p>"
   ]
  },
  {
   "cell_type": "code",
   "execution_count": null,
   "metadata": {
    "tags": []
   },
   "outputs": [],
   "source": [
    "# Keys list (.h5 hierarchy ground level)\n",
    "list(h5_object.keys())"
   ]
  },
  {
   "cell_type": "markdown",
   "metadata": {
    "tags": []
   },
   "source": [
    "<p class=\"steps\">4 - Access to the second hierarchy level through group key \"00:07:80:3B:46:61\"</p>"
   ]
  },
  {
   "cell_type": "code",
   "execution_count": null,
   "metadata": {
    "tags": []
   },
   "outputs": [],
   "source": [
    "h5_group = h5_object.get('00:07:80:3B:46:61')\n",
    "print (\"Second hierarchy level: \" + str(list(h5_group)))"
   ]
  },
  {
   "cell_type": "markdown",
   "metadata": {
    "tags": []
   },
   "source": [
    "<p class=\"steps\">5 - Identification of h5_group metadata attributes</p>"
   ]
  },
  {
   "cell_type": "code",
   "execution_count": null,
   "metadata": {
    "tags": []
   },
   "outputs": [],
   "source": [
    "print (\"Metadata of h5_group: \\n\" + str(list(h5_group.attrs.keys())))"
   ]
  },
  {
   "cell_type": "markdown",
   "metadata": {
    "tags": []
   },
   "source": [
    "<p class=\"steps\">6 - Storage of acquisition sampling rate by accessing h5_group metadata (attributes)</p>"
   ]
  },
  {
   "cell_type": "code",
   "execution_count": null,
   "metadata": {
    "tags": []
   },
   "outputs": [],
   "source": [
    "sampling_rate = h5_group.attrs.get(\"sampling rate\")\n",
    "print (\"Sampling Rate: \" + str(sampling_rate))"
   ]
  },
  {
   "cell_type": "markdown",
   "metadata": {
    "tags": []
   },
   "source": [
    "<p class=\"steps\">7 - Access to the third level of data through group key \"00:07:80:3B:46:61\" and sub-group key \"raw\"</p>"
   ]
  },
  {
   "cell_type": "code",
   "execution_count": null,
   "metadata": {
    "tags": []
   },
   "outputs": [],
   "source": [
    "h5_sub_group = h5_group.get(\"raw\")\n",
    "print(\"Third hierarchy level: \" + str(list(h5_sub_group)))"
   ]
  },
  {
   "cell_type": "markdown",
   "metadata": {
    "tags": []
   },
   "source": [
    "<p class=\"steps\">8 - Transposition of \"channel_1\" dataset to a Python list (the units are mV). This sub-group corresponds to the data acquired at channel 1</p>"
   ]
  },
  {
   "cell_type": "code",
   "execution_count": null,
   "metadata": {
    "tags": []
   },
   "outputs": [],
   "source": [
    "h5_data = h5_sub_group.get(\"channel_1\")\n",
    "\n",
    "# Conversion of a nested list to a flatten list by list-comprehension\n",
    "# The following line is equivalent to:\n",
    "# for sublist in h5_data:\n",
    "#    for item in sublist:\n",
    "#        flat_list.append(item)\n",
    "data_list = [item for sublist in h5_data for item in sublist]\n",
    "time = bsnb.generate_time(data_list, sampling_rate)\n",
    "\n",
    "# Signal data samples values and graphical representation.\n",
    "print (array([item for sublist in h5_data for item in sublist]))\n",
    "bsnb.plot([time], [data_list], x_axis_label=\"Time (s)\", y_axis_label=\"Raw Data\")"
   ]
  },
  {
   "cell_type": "markdown",
   "metadata": {
    "tags": []
   },
   "source": [
    "*This procedure can be automatically done by **load** function of **<span class=\"color2\">biosignalsnotebooks</span>** package*"
   ]
  },
  {
   "cell_type": "markdown",
   "metadata": {
    "tags": [
     "hide_in"
    ]
   },
   "source": [
    "With the described steps the user acquire the capability of exploring h5 files, navigating through his hierarchy and accessing data and metadata.\n",
    "\n",
    "In order to access this information through a graphical user interface, there are interesting applications such as **<span class=\"color2\">HDFView</span> <a href=\"https://support.hdfgroup.org/products/java/hdfview/\" target=\"_blank\"><img src=\"../../images/icons/link.png\" width=\"10px\" height=\"10px\" style=\"display:inline\"></a>**.\n",
    "\n",
    "In the following animation the file hierarchy is presented together with the signal samples in channel 1 and the file metadata/attributes."
   ]
  },
  {
   "cell_type": "markdown",
   "metadata": {
    "tags": []
   },
   "source": [
    "<video id=\"video_1\" muted loop src=\"../../images/open/hdf_view_crop_video.mp4\" class=\"video\"></video>"
   ]
  },
  {
   "cell_type": "code",
   "execution_count": null,
   "metadata": {
    "tags": [
     "hide_both"
    ]
   },
   "outputs": [],
   "source": [
    "%%javascript\n",
    "document.getElementById(\"video_1\").play()"
   ]
  },
  {
   "cell_type": "markdown",
   "metadata": {
    "tags": [
     "hide_mark",
     "aux"
    ]
   },
   "source": [
    "<span class=\"color6\">**Auxiliary Code Segment (should not be replicated by\n",
    "the user)**</span>"
   ]
  },
  {
   "cell_type": "code",
   "execution_count": null,
   "metadata": {
    "tags": [
     "hide_both"
    ]
   },
   "outputs": [],
   "source": [
    "from biosignalsnotebooks.__notebook_support__ import css_style_apply\n",
    "css_style_apply()"
   ]
  },
  {
   "cell_type": "code",
   "execution_count": null,
   "metadata": {
    "tags": [
     "hide_both"
    ]
   },
   "outputs": [],
   "source": [
    "%%html\n",
    "<script>\n",
    "    // AUTORUN ALL CELLS ON NOTEBOOK-LOAD!\n",
    "    require(\n",
    "        ['base/js/namespace', 'jquery'], \n",
    "        function(jupyter, $) {\n",
    "            $(jupyter.events).on(\"kernel_ready.Kernel\", function () {\n",
    "                console.log(\"Auto-running all cells-below...\");\n",
    "                jupyter.actions.call('jupyter-notebook:run-all-cells-below');\n",
    "                jupyter.actions.call('jupyter-notebook:save-notebook');\n",
    "            });\n",
    "        }\n",
    "    );\n",
    "</script>"
   ]
  }
 ],
 "metadata": {
  "celltoolbar": "Tags",
  "kernelspec": {
   "display_name": "Python 3",
   "language": "python",
   "name": "python3"
  },
  "language_info": {
   "codemirror_mode": {
    "name": "ipython",
    "version": 3
   },
   "file_extension": ".py",
   "mimetype": "text/x-python",
   "name": "python",
   "nbconvert_exporter": "python",
   "pygments_lexer": "ipython3",
   "version": "3.6.2rc1"
  }
 },
 "nbformat": 4,
 "nbformat_minor": 2
}
