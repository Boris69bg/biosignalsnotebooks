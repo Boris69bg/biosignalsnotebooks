{
 "cells": [
  {
   "cell_type": "markdown",
   "metadata": {
    "tags": [
     "header"
    ]
   },
   "source": [
    "<table width=\"100%\">\n",
    "    <tr style=\"border-bottom:solid 2pt #009EE3\">\n",
    "        <td style=\"text-align:left\" width=\"10%\">\n",
    "            <a href=\"biosignalsnotebooks.dwipynb\" download><img src=\"../../images/icons/download.png\"></a>\n",
    "        </td>\n",
    "        <td style=\"text-align:left\" width=\"10%\">\n",
    "            <a href=\"https://mybinder.org/v2/gh/biosignalsnotebooks/biosignalsnotebooks/master?filepath=header_footer%2Fbiosignalsnotebooks_environment%2Fcategories%2FMainFiles%2Fbiosignalsnotebooks.dwipynb\" target=\"_blank\"><img src=\"../../images/icons/program.png\" title=\"Be creative and test your solutions !\"></a>\n",
    "        </td>\n",
    "        <td></td>\n",
    "        <td style=\"text-align:left\" width=\"5%\">\n",
    "            <a href=\"../MainFiles/biosignalsnotebooks.ipynb\"><img src=\"../../images/icons/home.png\"></a>\n",
    "        </td>\n",
    "        <td style=\"text-align:left\" width=\"5%\">\n",
    "            <a href=\"../MainFiles/contacts.ipynb\"><img src=\"../../images/icons/contacts.png\"></a>\n",
    "        </td>\n",
    "        <td style=\"text-align:left\" width=\"5%\">\n",
    "            <a href=\"https://github.com/biosignalsnotebooks/biosignalsnotebooks\" target=\"_blank\"><img src=\"../../images/icons/github.png\"></a>\n",
    "        </td>\n",
    "        <td style=\"border-left:solid 2pt #009EE3\" width=\"15%\">\n",
    "            <img src=\"../../images/ost_logo.png\">\n",
    "        </td>\n",
    "    </tr>\n",
    "</table>"
   ]
  },
  {
   "cell_type": "markdown",
   "metadata": {},
   "source": [
    "<link rel=\"stylesheet\" href=\"../../styles/theme_style.css\">\n",
    "<img src=\"../../images/OS_logo_title.png\">\n",
    "\n",
    "**<span style=\"color:#009EE3\">biosignalsnotebooks</span>** (<a href=\"../MainFiles/aux_files/biosignalsnotebooks_presentation.pdf\">see project presentation<img src=\"../../images/icons/link.png\" width=\"10px\" height=\"10px\" style=\"display:inline\"></a>) is a set of documents and a **<span class=\"color1\">Python</span>** library to provide programming examples in the form of **<span class=\"color5\">Jupyter Notebooks</span>**, as companion to the **<span style=\"color:#009EE3\">OpenSignals</span>** biosignals acquisition tools.\n",
    "\n",
    "This collection of code samples has the purpose to help users of PLUX Wireless Biosignals systems, such as **bitalino** or **biosignalsplux**, and to the researcher or student interested on recording processing and classifying biosignals. The examples are set on a level of complexity to inspire the users and programmers on how easy some tasks are and that more complex ones can also be achieved, by reusing and recreating some of the examples presented here.\n",
    "\n",
    "A **<span class=\"color1\">Python</span>** library (entitled **<span style=\"color:#009EE3\">biosignalsnotebooks</span>** ) is the base toolbox to support the notebooks and to provide some useful functionalities. It can be installed through pip command, like demonstrated in a <a href=\"https://pypi.org/project/biosignalsnotebooks/\" target=\"_blank\">PyPI <img src=\"../../images/icons/link.png\" width=\"10px\" height=\"10px\" style=\"display:inline\"></a> dedicated page.\n",
    "\n",
    "In many cases we also point and illustrate with code the usage of other python toolboxes dedicated to biosignal processing.\n",
    "\n",
    "The notebooks will cover the full topics pipeline of working with biosignals, such as: **<span class=\"color1\">Load</span>** a file; **<span class=\"color3\">Visualise</span>** the data online and offline, **<span class=\"color4\">Pre-Process</span>** a one channel signal or a multi-channel acquisition, **<span class=\"color5\">Detect</span>** relevant events in the signals, **<span class=\"color6\">Extract</span>** features from many different type of sensors and domains, **<span class=\"color7\">Train and Classify</span>** among a set of classes with several machine learning approaches, **<span class=\"color8\">Understand</span>** the obtained results with metrics and validations techniques.\n",
    "\n",
    "These examples are carried in a multitude of biosignals , from ECG, EDA, EMG, Accelerometer, Respiration among many others.\n",
    "The notebooks have a set of labels to help navigate among topics <a href=\"../MainFiles/by_tag.ipynb\"><img src=\"../../images/icons/link.png\" width=\"10px\" height=\"10px\" style=\"display:inline\"></a>, types of signals <a href=\"../MainFiles/by_signal_type.ipynb\"><img src=\"../../images/icons/link.png\" width=\"10px\" height=\"10px\" style=\"display:inline\"></a>, application area <a href=\"../MainFiles/biosignalsnotebooks.ipynb\"><img src=\"../../images/icons/link.png\" width=\"10px\" height=\"10px\" style=\"display:inline\"></a> and complexity <a href=\"../MainFiles/by_diff.ipynb\"><img src=\"../../images/icons/link.png\" width=\"10px\" height=\"10px\" style=\"display:inline\"></a> level to support the search for particular solutions.\n",
    "\n",
    "We encourage you to share new example ideas, to pose questions info@plux.info, and to make improvements or suggestion to this set of notebooks.\n",
    "\n",
    "**Be inspired on how to make the most of your biosignals!**\n",
    "\n",
    "<br>\n",
    "\n",
    "<div class=\"title\"><h2 class=\"color11\"> Available Notebooks </h2></div>\n",
    "<table width=\"100%\">\n",
    "    <tr>\n",
    "        <td width=\"20%\" class=\"center_cell group_by_header_grey\"> Category </td>\n",
    "        <td width=\"60%\" class=\"center_cell gourp_by_header\"></td>\n",
    "        <td width=\"20%\" class=\"center_cell\"></td>\n",
    "    </tr>\n",
    "\t<tr>\n",
    "\t\t<td rowspan='3' class='center_cell open_cell_border_1'><span style='float:center'><img src='../../images/icons/Load.png' class='icon' style='vertical-align:middle'></span> <span style='float:center' class='color1'>Load</span></td>\n",
    "\t\t<td class='center_cell color1_cell color1_top'><span style='float:center'>Load</span></td>\n",
    "\t\t<td class='center_cell gradient_color1'></td>\n",
    "\t</tr>\n",
    "\t<tr >\n",
    "\t\t<td class='center_cell open_cell_light'> <a href='../Load/open_h5.ipynb'>Load acquired data from .h5 file</a> </td>\n",
    "\t\t<td class='center_cell'> <a href='../Load/open_h5.ipynb'><div class='file_icon'></div></a> </td>\n",
    "\t</tr>\n",
    "\t<tr class='border_cell_bottom_white'>\n",
    "\t\t<td class='center_cell open_cell_light'> <a href='../Load/open_txt.ipynb'>Load acquired data from .txt file</a> </td>\n",
    "\t\t<td class='center_cell'> <a href='../Load/open_txt.ipynb'><div class='file_icon'></div></a> </td>\n",
    "\t</tr>\n",
    "\t<tr>\n",
    "\t\t<td rowspan='2' class='center_cell open_cell_border_2'><span style='float:center'><img src='../../images/icons/Record.png' class='icon' style='vertical-align:middle'></span> <span style='float:center' class='color2'>Record</span></td>\n",
    "\t\t<td class='center_cell color2_cell '><span style='float:center'>Record</span></td>\n",
    "\t\t<td class='center_cell gradient_color2'></td>\n",
    "\t</tr>\n",
    "\t<tr class='border_cell_bottom_white'>\n",
    "\t\t<td class='center_cell open_cell_light'> <a href='../Record/sampling_rate_and_aliasing.ipynb'>Problems of low sampling rate (aliasing)</a> </td>\n",
    "\t\t<td class='center_cell'> <a href='../Record/sampling_rate_and_aliasing.ipynb'><div class='file_icon'></div></a> </td>\n",
    "\t</tr>\n",
    "\t<tr>\n",
    "\t\t<td rowspan='2' class='center_cell open_cell_border_4'><span style='float:center'><img src='../../images/icons/Pre-Process.png' class='icon' style='vertical-align:middle'></span> <span style='float:center' class='color4'>Pre-Process</span></td>\n",
    "\t\t<td class='center_cell color4_cell '><span style='float:center'>Pre-Process</span></td>\n",
    "\t\t<td class='center_cell gradient_color4'></td>\n",
    "\t</tr>\n",
    "\t<tr class='border_cell_bottom_white'>\n",
    "\t\t<td class='center_cell open_cell_light'> <a href='../Pre-Process/emg_fatigue_evaluation_median_freq.ipynb'>Fatigue Evaluation - Evolution of Median Power Frequency</a> </td>\n",
    "\t\t<td class='center_cell'> <a href='../Pre-Process/emg_fatigue_evaluation_median_freq.ipynb'><div class='file_icon'></div></a> </td>\n",
    "\t</tr>\n",
    "</table>"
   ]
  },
  {
   "cell_type": "markdown",
   "metadata": {
    "tags": [
     "footer"
    ]
   },
   "source": [
    "<hr>\n",
    "<table width=\"100%\">\n",
    "    <tr>\n",
    "        <td style=\"border-right:solid 3px #009EE3\" width=\"20%\">\n",
    "            <img src=\"../../images/ost_logo.png\">\n",
    "        </td>\n",
    "        <td width=\"40%\" style=\"text-align:left\">\n",
    "            <a href=\"../MainFiles/aux_files/biosignalsnotebooks_presentation.pdf\" target=\"_blank\">&#9740; Project Presentation</a>\n",
    "            <br>\n",
    "            <a href=\"https://github.com/biosignalsnotebooks/biosignalsnotebooks\" target=\"_blank\">&#9740; GitHub Repository</a>\n",
    "            <br>\n",
    "            <a href=\"https://pypi.org/project/biosignalsnotebooks/\" target=\"_blank\">&#9740; How to install biosignalsnotebooks Python package ?</a>\n",
    "            <br>\n",
    "            <a href=\"../MainFiles/signal_samples.ipynb\">&#9740; Signal Library</a>\n",
    "        </td>\n",
    "        <td width=\"40%\" style=\"text-align:left\">\n",
    "            <a href=\"../MainFiles/biosignalsnotebooks.ipynb\">&#9740; Notebook Categories</a>\n",
    "            <br>\n",
    "            <a href=\"../MainFiles/by_diff.ipynb\">&#9740; Notebooks by Difficulty</a>\n",
    "            <br>\n",
    "            <a href=\"../MainFiles/by_signal_type.ipynb\">&#9740; Notebooks by Signal Type</a>\n",
    "            <br>\n",
    "            <a href=\"../MainFiles/by_tag.ipynb\">&#9740; Notebooks by Tag</a>\n",
    "        </td>\n",
    "    </tr>\n",
    "</table>"
   ]
  },
  {
   "cell_type": "markdown",
   "metadata": {
    "tags": [
     "hide_mark",
     "aux"
    ]
   },
   "source": [
    "<span class=\"color6\">**Auxiliary Code Segment (should not be replicated by\n",
    "the user)**</span>"
   ]
  },
  {
   "cell_type": "code",
   "execution_count": null,
   "metadata": {
    "tags": [
     "hide_both"
    ]
   },
   "outputs": [],
   "source": [
    "from biosignalsnotebooks.__notebook_support__ import css_style_apply\n",
    "css_style_apply()"
   ]
  },
  {
   "cell_type": "code",
   "execution_count": null,
   "metadata": {
    "tags": [
     "hide_both"
    ]
   },
   "outputs": [],
   "source": [
    "%%html\n",
    "<script>\n",
    "    // AUTORUN ALL CELLS ON NOTEBOOK-LOAD!\n",
    "    require(\n",
    "        ['base/js/namespace', 'jquery'],\n",
    "        function(jupyter, $) {\n",
    "            $(jupyter.events).on(\"kernel_ready.Kernel\", function () {\n",
    "                console.log(\"Auto-running all cells-below...\");\n",
    "                jupyter.actions.call('jupyter-notebook:run-all-cells-below');\n",
    "                jupyter.actions.call('jupyter-notebook:save-notebook');\n",
    "            });\n",
    "        }\n",
    "    );\n",
    "</script>"
   ]
  }
 ],
 "metadata": {
  "kernelspec": {
   "display_name": "Python 3",
   "language": "python",
   "name": "python3"
  },
  "language_info": {
   "codemirror_mode": {
    "name": "ipython",
    "version": 3
   },
   "file_extension": ".py",
   "mimetype": "text/x-python",
   "name": "python",
   "nbconvert_exporter": "python",
   "pygments_lexer": "ipython3",
   "version": "3.6.2rc1"
  }
 },
 "nbformat": 4,
 "nbformat_minor": 2
}
